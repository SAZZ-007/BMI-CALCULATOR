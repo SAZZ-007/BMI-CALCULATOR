{
  "nbformat": 4,
  "nbformat_minor": 0,
  "metadata": {
    "colab": {
      "provenance": [],
      "authorship_tag": "ABX9TyOFrQ3iloQroSqByoCgoAev",
      "include_colab_link": true
    },
    "kernelspec": {
      "name": "python3",
      "display_name": "Python 3"
    },
    "language_info": {
      "name": "python"
    }
  },
  "cells": [
    {
      "cell_type": "markdown",
      "metadata": {
        "id": "view-in-github",
        "colab_type": "text"
      },
      "source": [
        "<a href=\"https://colab.research.google.com/github/SAZZ-007/BMI-CALCULATOR/blob/main/ml.ipynb\" target=\"_parent\"><img src=\"https://colab.research.google.com/assets/colab-badge.svg\" alt=\"Open In Colab\"/></a>"
      ]
    },
    {
      "cell_type": "code",
      "source": [
        "#machine_learning_notes\n",
        "variable = \"right in the strings!\"\n",
        "print(f\"f strings allow you to embed variables {variable}\")"
      ],
      "metadata": {
        "colab": {
          "base_uri": "https://localhost:8080/"
        },
        "id": "hH3fP1lfqgz8",
        "outputId": "09dee008-ca0d-4369-e5fa-374b7dc956d7"
      },
      "execution_count": 3,
      "outputs": [
        {
          "output_type": "stream",
          "name": "stdout",
          "text": [
            "f strings allow you to embed variables right in the strings!\n"
          ]
        }
      ]
    },
    {
      "cell_type": "code",
      "source": [
        "import numpy as np\n",
        "import matplotlib.pyplot as plt\n"
      ],
      "metadata": {
        "id": "gUpaHsiAq7e4"
      },
      "execution_count": 9,
      "outputs": []
    },
    {
      "cell_type": "code",
      "source": [
        "plt.style.use('./deeplearning.mplstyle')#insert file in upload sec\n",
        "#data = pd.read_csv"
      ],
      "metadata": {
        "id": "r1iS1XeGr-sZ"
      },
      "execution_count": 11,
      "outputs": []
    },
    {
      "cell_type": "code",
      "source": [
        "x_train = np.array([2.0,3.0])\n",
        "y_train = np.array([200.0,300.0])\n",
        "print(f\"x_train {x_train}\")\n",
        "print(f\"y_train {y_train}\")"
      ],
      "metadata": {
        "colab": {
          "base_uri": "https://localhost:8080/"
        },
        "id": "ggP36N_MtHxo",
        "outputId": "101d8ac6-7773-45be-ec09-279d37220340"
      },
      "execution_count": 18,
      "outputs": [
        {
          "output_type": "stream",
          "name": "stdout",
          "text": [
            "x_train [2. 3.]\n",
            "y_train [200. 300.]\n"
          ]
        }
      ]
    },
    {
      "cell_type": "code",
      "source": [
        "# m is the number of training examples\n",
        "# shape() method is used to fetch the dimensions of Pandas and NumPy type objects in python.\n",
        "print(f\"x_train.shape = {x_train.shape}\")\n",
        "m = x_train.shape[0]\n",
        "print(f\"Number of training examples is: {m}\")"
      ],
      "metadata": {
        "colab": {
          "base_uri": "https://localhost:8080/"
        },
        "id": "4ehdwOVqvuvo",
        "outputId": "37e90aec-a506-428f-9496-d64c6de638e0"
      },
      "execution_count": 24,
      "outputs": [
        {
          "output_type": "stream",
          "name": "stdout",
          "text": [
            "x_train.shape = (2,)\n",
            "Number of training examples is: 2\n"
          ]
        }
      ]
    },
    {
      "cell_type": "code",
      "source": [
        "n = len(x_train)\n",
        "print(f\"Number of training examples is: {m}\")"
      ],
      "metadata": {
        "colab": {
          "base_uri": "https://localhost:8080/"
        },
        "id": "uzzin5OJzCmJ",
        "outputId": "e8d1200c-c910-4ce4-c572-d1f447500f5b"
      },
      "execution_count": 26,
      "outputs": [
        {
          "output_type": "stream",
          "name": "stdout",
          "text": [
            "Number of training examples is: 2\n"
          ]
        }
      ]
    },
    {
      "cell_type": "code",
      "source": [
        "i = 1 # Change this to 1 to see (x^1, y^1)\n",
        "x_i = x_train[i]\n",
        "y_i = y_train[i]\n",
        "print(f\"(x^({i})), (y^({i})) = ({x_i}, {y_i})\")"
      ],
      "metadata": {
        "colab": {
          "base_uri": "https://localhost:8080/"
        },
        "id": "9pgQY9LJzQBl",
        "outputId": "673c108e-5d3c-459d-96cd-aaae445f008c"
      },
      "execution_count": 35,
      "outputs": [
        {
          "output_type": "stream",
          "name": "stdout",
          "text": [
            "(x^(1)), (y^(1)) = (3.0, 300.0)\n"
          ]
        }
      ]
    },
    {
      "cell_type": "code",
      "source": [
        "#You can plot these two points using the scatter() function in the matplotlib library, as shown in the cell below.\n",
        "#The function arguments marker and c show the points as red crosses (the default is blue dots).\n",
        "#You can use other functions in the matplotlib library to set the title and labels to display\n",
        "\n",
        "#markers represent individual data points, enhancing clarity and distinction within graphs and charts\n",
        "plt.scatter(x_train, y_train, marker = 'x', c = 'r')\n",
        "plt.title(\"housing_prices\")\n",
        "plt.ylabel(\"price(dollar in thousands)\")\n",
        "plt.xlabel(\"size(1000 sqft)\")\n",
        "plt.show()"
      ],
      "metadata": {
        "colab": {
          "base_uri": "https://localhost:8080/",
          "height": 460
        },
        "id": "1HccGrhJ1axv",
        "outputId": "26fad371-0b17-459d-de21-bde21738ab51"
      },
      "execution_count": 40,
      "outputs": [
        {
          "output_type": "display_data",
          "data": {
            "text/plain": [
              "<Figure size 640x480 with 1 Axes>"
            ],
            "image/png": "[encoded data removed]"
          },
          "metadata": {}
        }
      ]
    },
    {
      "cell_type": "code",
      "source": [],
      "metadata": {
        "id": "JyGrY-M41RRh"
      },
      "execution_count": null,
      "outputs": []
    }
  ]
}